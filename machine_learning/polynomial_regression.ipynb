{
 "cells": [
  {
   "cell_type": "code",
   "execution_count": 2,
   "metadata": {},
   "outputs": [],
   "source": [
    "import numpy as np\n",
    "import pandas as pd\n",
    "import matplotlib.pyplot as plt\n",
    "% matplotlib inline"
   ]
  },
  {
   "cell_type": "code",
   "execution_count": 3,
   "metadata": {},
   "outputs": [],
   "source": [
    "from sklearn.datasets import load_boston\n",
    "boston = load_boston()"
   ]
  },
  {
   "cell_type": "code",
   "execution_count": 5,
   "metadata": {},
   "outputs": [
    {
     "data": {
      "text/html": [
       "<div>\n",
       "<style scoped>\n",
       "    .dataframe tbody tr th:only-of-type {\n",
       "        vertical-align: middle;\n",
       "    }\n",
       "\n",
       "    .dataframe tbody tr th {\n",
       "        vertical-align: top;\n",
       "    }\n",
       "\n",
       "    .dataframe thead th {\n",
       "        text-align: right;\n",
       "    }\n",
       "</style>\n",
       "<table border=\"1\" class=\"dataframe\">\n",
       "  <thead>\n",
       "    <tr style=\"text-align: right;\">\n",
       "      <th></th>\n",
       "      <th>CRIM</th>\n",
       "      <th>ZN</th>\n",
       "      <th>INDUS</th>\n",
       "      <th>CHAS</th>\n",
       "      <th>NOX</th>\n",
       "      <th>RM</th>\n",
       "      <th>AGE</th>\n",
       "      <th>DIS</th>\n",
       "      <th>RAD</th>\n",
       "      <th>TAX</th>\n",
       "      <th>PTRATIO</th>\n",
       "      <th>B</th>\n",
       "      <th>LSTAT</th>\n",
       "      <th>MEDV</th>\n",
       "    </tr>\n",
       "  </thead>\n",
       "  <tbody>\n",
       "    <tr>\n",
       "      <th>0</th>\n",
       "      <td>0.00632</td>\n",
       "      <td>18.0</td>\n",
       "      <td>2.31</td>\n",
       "      <td>0.0</td>\n",
       "      <td>0.538</td>\n",
       "      <td>6.575</td>\n",
       "      <td>65.2</td>\n",
       "      <td>4.0900</td>\n",
       "      <td>1.0</td>\n",
       "      <td>296.0</td>\n",
       "      <td>15.3</td>\n",
       "      <td>396.90</td>\n",
       "      <td>4.98</td>\n",
       "      <td>24.0</td>\n",
       "    </tr>\n",
       "    <tr>\n",
       "      <th>1</th>\n",
       "      <td>0.02731</td>\n",
       "      <td>0.0</td>\n",
       "      <td>7.07</td>\n",
       "      <td>0.0</td>\n",
       "      <td>0.469</td>\n",
       "      <td>6.421</td>\n",
       "      <td>78.9</td>\n",
       "      <td>4.9671</td>\n",
       "      <td>2.0</td>\n",
       "      <td>242.0</td>\n",
       "      <td>17.8</td>\n",
       "      <td>396.90</td>\n",
       "      <td>9.14</td>\n",
       "      <td>21.6</td>\n",
       "    </tr>\n",
       "    <tr>\n",
       "      <th>2</th>\n",
       "      <td>0.02729</td>\n",
       "      <td>0.0</td>\n",
       "      <td>7.07</td>\n",
       "      <td>0.0</td>\n",
       "      <td>0.469</td>\n",
       "      <td>7.185</td>\n",
       "      <td>61.1</td>\n",
       "      <td>4.9671</td>\n",
       "      <td>2.0</td>\n",
       "      <td>242.0</td>\n",
       "      <td>17.8</td>\n",
       "      <td>392.83</td>\n",
       "      <td>4.03</td>\n",
       "      <td>34.7</td>\n",
       "    </tr>\n",
       "    <tr>\n",
       "      <th>3</th>\n",
       "      <td>0.03237</td>\n",
       "      <td>0.0</td>\n",
       "      <td>2.18</td>\n",
       "      <td>0.0</td>\n",
       "      <td>0.458</td>\n",
       "      <td>6.998</td>\n",
       "      <td>45.8</td>\n",
       "      <td>6.0622</td>\n",
       "      <td>3.0</td>\n",
       "      <td>222.0</td>\n",
       "      <td>18.7</td>\n",
       "      <td>394.63</td>\n",
       "      <td>2.94</td>\n",
       "      <td>33.4</td>\n",
       "    </tr>\n",
       "    <tr>\n",
       "      <th>4</th>\n",
       "      <td>0.06905</td>\n",
       "      <td>0.0</td>\n",
       "      <td>2.18</td>\n",
       "      <td>0.0</td>\n",
       "      <td>0.458</td>\n",
       "      <td>7.147</td>\n",
       "      <td>54.2</td>\n",
       "      <td>6.0622</td>\n",
       "      <td>3.0</td>\n",
       "      <td>222.0</td>\n",
       "      <td>18.7</td>\n",
       "      <td>396.90</td>\n",
       "      <td>5.33</td>\n",
       "      <td>36.2</td>\n",
       "    </tr>\n",
       "  </tbody>\n",
       "</table>\n",
       "</div>"
      ],
      "text/plain": [
       "      CRIM    ZN  INDUS  CHAS    NOX     RM   AGE     DIS  RAD    TAX  \\\n",
       "0  0.00632  18.0   2.31   0.0  0.538  6.575  65.2  4.0900  1.0  296.0   \n",
       "1  0.02731   0.0   7.07   0.0  0.469  6.421  78.9  4.9671  2.0  242.0   \n",
       "2  0.02729   0.0   7.07   0.0  0.469  7.185  61.1  4.9671  2.0  242.0   \n",
       "3  0.03237   0.0   2.18   0.0  0.458  6.998  45.8  6.0622  3.0  222.0   \n",
       "4  0.06905   0.0   2.18   0.0  0.458  7.147  54.2  6.0622  3.0  222.0   \n",
       "\n",
       "   PTRATIO       B  LSTAT  MEDV  \n",
       "0     15.3  396.90   4.98  24.0  \n",
       "1     17.8  396.90   9.14  21.6  \n",
       "2     17.8  392.83   4.03  34.7  \n",
       "3     18.7  394.63   2.94  33.4  \n",
       "4     18.7  396.90   5.33  36.2  "
      ]
     },
     "execution_count": 5,
     "metadata": {},
     "output_type": "execute_result"
    }
   ],
   "source": [
    "df_data = pd.DataFrame(boston.data, columns=boston.feature_names)\n",
    "df_target = pd.DataFrame(boston.target, columns=['MEDV'])\n",
    "df = pd.concat([df_data, df_target], axis=1)\n",
    "df.head()"
   ]
  },
  {
   "cell_type": "code",
   "execution_count": 9,
   "metadata": {},
   "outputs": [],
   "source": [
    "lstat = df.loc[:, ['LSTAT']].values\n",
    "rm  = df.loc[:, ['RM']].values\n",
    "y = df.loc[:, ['MEDV']].values"
   ]
  },
  {
   "cell_type": "code",
   "execution_count": 12,
   "metadata": {},
   "outputs": [],
   "source": [
    "from sklearn.model_selection import train_test_split\n",
    "lstat_train, lstat_test, y_train, y_test = train_test_split(lstat, y, test_size = 0.3, random_state=0)"
   ]
  },
  {
   "cell_type": "code",
   "execution_count": 14,
   "metadata": {},
   "outputs": [
    {
     "data": {
      "text/plain": [
       "LinearRegression(copy_X=True, fit_intercept=True, n_jobs=1, normalize=False)"
      ]
     },
     "execution_count": 14,
     "metadata": {},
     "output_type": "execute_result"
    }
   ],
   "source": [
    "from sklearn.linear_model import LinearRegression\n",
    "model_lin = LinearRegression()\n",
    "model_lin.fit(lstat_train, y_train)"
   ]
  },
  {
   "cell_type": "code",
   "execution_count": 28,
   "metadata": {},
   "outputs": [
    {
     "data": {
      "image/png": "[encoded data removed]",
      "text/plain": [
       "<matplotlib.figure.Figure at 0x11676c0b8>"
      ]
     },
     "metadata": {},
     "output_type": "display_data"
    }
   ],
   "source": [
    "plt.scatter(lstat, y, color='lightgray', label='data')\n",
    "x = np.arange(0, 40, 1).reshape(-1, 1)\n",
    "plt.plot(x, model_lin.predict(x), color='red', label='linear')\n",
    "plt.xlabel('LSTAT')\n",
    "plt.ylabel('MEDV')\n",
    "plt.legend(loc='upper right')\n",
    "plt.show()"
   ]
  },
  {
   "cell_type": "code",
   "execution_count": 35,
   "metadata": {},
   "outputs": [
    {
     "data": {
      "text/plain": [
       "array([[ 1.    ,  4.98  , 24.8004],\n",
       "       [ 1.    ,  9.14  , 83.5396],\n",
       "       [ 1.    ,  4.03  , 16.2409],\n",
       "       ...,\n",
       "       [ 1.    ,  5.64  , 31.8096],\n",
       "       [ 1.    ,  6.48  , 41.9904],\n",
       "       [ 1.    ,  7.88  , 62.0944]])"
      ]
     },
     "execution_count": 35,
     "metadata": {},
     "output_type": "execute_result"
    }
   ],
   "source": [
    "from sklearn.preprocessing import PolynomialFeatures\n",
    "quad = PolynomialFeatures(degree=2)\n",
    "lstat_quad = quad.fit_transform(lstat)\n",
    "lstat_quad"
   ]
  },
  {
   "cell_type": "code",
   "execution_count": 36,
   "metadata": {},
   "outputs": [],
   "source": [
    "lstat_quad_train, lstat_quad_test, _, _, = train_test_split(lstat_quad, y, test_size=0.3, random_state=0)"
   ]
  },
  {
   "cell_type": "code",
   "execution_count": 37,
   "metadata": {},
   "outputs": [
    {
     "data": {
      "text/plain": [
       "LinearRegression(copy_X=True, fit_intercept=True, n_jobs=1, normalize=False)"
      ]
     },
     "execution_count": 37,
     "metadata": {},
     "output_type": "execute_result"
    }
   ],
   "source": [
    "model_quad = LinearRegression()\n",
    "model_quad.fit(lstat_quad_train, y_train)"
   ]
  },
  {
   "cell_type": "code",
   "execution_count": 39,
   "metadata": {},
   "outputs": [
    {
     "data": {
      "image/png": "[encoded data removed]",
      "text/plain": [
       "<matplotlib.figure.Figure at 0x1175fcb70>"
      ]
     },
     "metadata": {},
     "output_type": "display_data"
    }
   ],
   "source": [
    "plt.scatter(lstat, y, color='lightgray', label='data')\n",
    "x = np.arange(0, 40, 1).reshape(-1, 1)\n",
    "plt.plot(x, model_lin.predict(x), color='red', label='linear')\n",
    "x_quad = quad.fit_transform(x)\n",
    "plt.plot(x, model_quad.predict(x_quad), color='green', label='quad')\n",
    "plt.xlabel('LSTAT')\n",
    "plt.ylabel('MEDV')\n",
    "plt.legend(loc='upper right')\n",
    "plt.show()"
   ]
  },
  {
   "cell_type": "code",
   "execution_count": 74,
   "metadata": {},
   "outputs": [
    {
     "data": {
      "text/plain": [
       "array([[  1.      ,   4.98    ,  24.8004  , 123.505992],\n",
       "       [  1.      ,   9.14    ,  83.5396  , 763.551944],\n",
       "       [  1.      ,   4.03    ,  16.2409  ,  65.450827],\n",
       "       ...,\n",
       "       [  1.      ,   5.64    ,  31.8096  , 179.406144],\n",
       "       [  1.      ,   6.48    ,  41.9904  , 272.097792],\n",
       "       [  1.      ,   7.88    ,  62.0944  , 489.303872]])"
      ]
     },
     "execution_count": 74,
     "metadata": {},
     "output_type": "execute_result"
    }
   ],
   "source": [
    "cubic = PolynomialFeatures(degree=3)\n",
    "lstat_cubic = cubic.fit_transform(lstat)\n",
    "lstat_cubic"
   ]
  },
  {
   "cell_type": "code",
   "execution_count": 75,
   "metadata": {},
   "outputs": [],
   "source": [
    "lstat_cubic_train, lstat_cubic_test, _, _, = train_test_split(lstat_cubic, y, test_size=0.3, random_state=0)"
   ]
  },
  {
   "cell_type": "code",
   "execution_count": 76,
   "metadata": {},
   "outputs": [
    {
     "data": {
      "text/plain": [
       "LinearRegression(copy_X=True, fit_intercept=True, n_jobs=1, normalize=False)"
      ]
     },
     "execution_count": 76,
     "metadata": {},
     "output_type": "execute_result"
    }
   ],
   "source": [
    "model_cubic = LinearRegression()\n",
    "\n",
    "model_cubic.fit(lstat_cubic_train, y_train)"
   ]
  },
  {
   "cell_type": "code",
   "execution_count": 77,
   "metadata": {},
   "outputs": [
    {
     "data": {
      "image/png": "[encoded data removed]",
      "text/plain": [
       "<matplotlib.figure.Figure at 0x1a21c79e10>"
      ]
     },
     "metadata": {},
     "output_type": "display_data"
    }
   ],
   "source": [
    "plt.scatter(lstat, y, color='lightgray', label='data')\n",
    "x = np.arange(0, 40, 1).reshape(-1, 1)\n",
    "plt.plot(x, model_lin.predict(x), color='red', label='linear')\n",
    "x_quad = quad.fit_transform(x)\n",
    "plt.plot(x, model_quad.predict(x_quad), color='green', label='quad')\n",
    "x_cubic = cubic.fit_transform(x)\n",
    "plt.plot(x, model_cubic.predict(x_cubic), color='blue', label='cubic')\n",
    "plt.xlabel('LSTAT')\n",
    "plt.ylabel('MEDV')\n",
    "plt.legend(loc='upper right')\n",
    "plt.show()"
   ]
  },
  {
   "cell_type": "code",
   "execution_count": 78,
   "metadata": {},
   "outputs": [],
   "source": [
    "def adjusted(score, n_sample, n_features):\n",
    "    adjusted_score = 1 - (1 - score) * ((n_sample - 1) / (n_sample - n_features - 1))\n",
    "    return adjusted_score"
   ]
  },
  {
   "cell_type": "code",
   "execution_count": 79,
   "metadata": {},
   "outputs": [
    {
     "name": "stdout",
     "output_type": "stream",
     "text": [
      "adjusted R^2\n",
      "\n",
      "model_linear\n",
      "train: 0.551\n",
      "test : 0.519\n",
      "\n",
      "model_quad\n",
      "train: 0.656\n",
      "test : 0.591\n",
      "\n",
      "model_cubic\n",
      "train: 0.672\n",
      "test : 0.607\n"
     ]
    }
   ],
   "source": [
    "# 自由度調整済み決定係数をtrainとtestに分けて出力\n",
    "print('adjusted R^2')\n",
    "print('')\n",
    "\n",
    "# 線形回帰\n",
    "print('model_linear')\n",
    "print('train: %.3f' % adjusted(model_lin.score(lstat_train, y_train), len(y_train), 1))\n",
    "print('test : %.3f' % adjusted(model_lin.score(lstat_test, y_test), len(y_test), 1))\n",
    "print('')\n",
    "\n",
    "# 2次関数\n",
    "print('model_quad')\n",
    "print('train: %.3f' % adjusted(model_quad.score(lstat_quad_train, y_train), len(y_train), 2))\n",
    "print('test : %.3f' % adjusted(model_quad.score(lstat_quad_test, y_test), len(y_test), 2))\n",
    "print('')\n",
    "\n",
    "# 3次関数\n",
    "print('model_cubic')\n",
    "print('train: %.3f' % adjusted(model_cubic.score(lstat_cubic_train, y_train), len(y_train), 3))\n",
    "print('test : %.3f' % adjusted(model_cubic.score(lstat_cubic_test, y_test), len(y_test), 3))"
   ]
  },
  {
   "cell_type": "code",
   "execution_count": 80,
   "metadata": {},
   "outputs": [],
   "source": [
    "X_lin = np.hstack((lstat, rm))"
   ]
  },
  {
   "cell_type": "code",
   "execution_count": 81,
   "metadata": {},
   "outputs": [
    {
     "data": {
      "text/plain": [
       "LinearRegression(copy_X=True, fit_intercept=True, n_jobs=1, normalize=False)"
      ]
     },
     "execution_count": 81,
     "metadata": {},
     "output_type": "execute_result"
    }
   ],
   "source": [
    "X_lin_train, X_lin_test, _, _ = train_test_split(X_lin, y, test_size=0.3, random_state=0)\n",
    "model_lin_2 = LinearRegression()\n",
    "model_lin_2.fit(X_lin_train, y_train)"
   ]
  },
  {
   "cell_type": "code",
   "execution_count": 83,
   "metadata": {},
   "outputs": [],
   "source": [
    "X_quad = np.hstack((lstat_quad, rm))"
   ]
  },
  {
   "cell_type": "code",
   "execution_count": 85,
   "metadata": {},
   "outputs": [
    {
     "data": {
      "text/plain": [
       "LinearRegression(copy_X=True, fit_intercept=True, n_jobs=1, normalize=False)"
      ]
     },
     "execution_count": 85,
     "metadata": {},
     "output_type": "execute_result"
    }
   ],
   "source": [
    "X_quad_train, X_quad_test, _, _ = train_test_split(X_quad, y, test_size=0.3, random_state=0)\n",
    "model_quad_2 = LinearRegression()\n",
    "model_quad_2.fit(X_quad_train, y_train)"
   ]
  },
  {
   "cell_type": "code",
   "execution_count": 86,
   "metadata": {},
   "outputs": [],
   "source": [
    "X_cubic = np.hstack((lstat_cubic, rm))"
   ]
  },
  {
   "cell_type": "code",
   "execution_count": 87,
   "metadata": {},
   "outputs": [
    {
     "data": {
      "text/plain": [
       "LinearRegression(copy_X=True, fit_intercept=True, n_jobs=1, normalize=False)"
      ]
     },
     "execution_count": 87,
     "metadata": {},
     "output_type": "execute_result"
    }
   ],
   "source": [
    "X_cubic_train, X_cubic_test, _, _ = train_test_split(X_cubic, y, test_size=0.3, random_state=0)\n",
    "model_cubic_2 = LinearRegression()\n",
    "model_cubic_2.fit(X_cubic_train, y_train)"
   ]
  },
  {
   "cell_type": "code",
   "execution_count": 88,
   "metadata": {},
   "outputs": [
    {
     "name": "stdout",
     "output_type": "stream",
     "text": [
      "adjusted R^2\n",
      "\n",
      "model_linear_2\n",
      "train: 0.649\n",
      "test : 0.602\n",
      "\n",
      "model_quad_2\n",
      "train: 0.726\n",
      "test : 0.630\n",
      "\n",
      "model_cubic_2\n",
      "train: 0.728\n",
      "test : 0.628\n"
     ]
    }
   ],
   "source": [
    "# 自由度調整済み決定係数をtrainとtestに分けて出力\n",
    "print('adjusted R^2')\n",
    "print('')\n",
    "\n",
    "# 線形回帰\n",
    "print('model_linear_2')\n",
    "print('train: %.3f' % adjusted(model_lin_2.score(X_lin_train, y_train), len(y_train), 2))\n",
    "print('test : %.3f' % adjusted(model_lin_2.score(X_lin_test, y_test), len(y_test), 2))\n",
    "print('')\n",
    "\n",
    "# 2次関数\n",
    "print('model_quad_2')\n",
    "print('train: %.3f' % adjusted(model_quad_2.score(X_quad_train, y_train), len(y_train), 3))\n",
    "print('test : %.3f' % adjusted(model_quad_2.score(X_quad_test, y_test), len(y_test), 3))\n",
    "print('')\n",
    "\n",
    "# 3次関数\n",
    "print('model_cubic_2')\n",
    "print('train: %.3f' % adjusted(model_cubic_2.score(X_cubic_train, y_train), len(y_train), 4))\n",
    "print('test : %.3f' % adjusted(model_cubic_2.score(X_cubic_test, y_test), len(y_test), 4))"
   ]
  },
  {
   "cell_type": "code",
   "execution_count": null,
   "metadata": {},
   "outputs": [],
   "source": []
  }
 ],
 "metadata": {
  "kernelspec": {
   "display_name": "Python 3",
   "language": "python",
   "name": "python3"
  },
  "language_info": {
   "codemirror_mode": {
    "name": "ipython",
    "version": 3
   },
   "file_extension": ".py",
   "mimetype": "text/x-python",
   "name": "python",
   "nbconvert_exporter": "python",
   "pygments_lexer": "ipython3",
   "version": "3.6.4"
  }
 },
 "nbformat": 4,
 "nbformat_minor": 2
}
