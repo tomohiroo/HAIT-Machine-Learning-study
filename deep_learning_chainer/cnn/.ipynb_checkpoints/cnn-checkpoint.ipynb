{
 "cells": [
  {
   "cell_type": "code",
   "execution_count": 1,
   "metadata": {},
   "outputs": [],
   "source": [
    "# 必要なライブラリの読み込み\n",
    "%matplotlib inline\n",
    "import matplotlib.pyplot as plt\n",
    "import numpy as np"
   ]
  },
  {
   "cell_type": "code",
   "execution_count": 2,
   "metadata": {},
   "outputs": [
    {
     "data": {
      "text/plain": [
       "('label.pickle', <http.client.HTTPMessage at 0x1104ca7f0>)"
      ]
     },
     "execution_count": 2,
     "metadata": {},
     "output_type": "execute_result"
    }
   ],
   "source": [
    "# データセットのダウンロード\n",
    "# 2回目以降は実行する必要はありません\n",
    "from urllib import request\n",
    "\n",
    "# trainデータのダウンロード\n",
    "url = 'https://s3-ap-northeast-1.amazonaws.com/ai-std/train.pickle'\n",
    "request.urlretrieve(url, 'train.pickle')\n",
    "\n",
    "# testデータのダウンロード\n",
    "url = 'https://s3-ap-northeast-1.amazonaws.com/ai-std/test.pickle'\n",
    "request.urlretrieve(url, 'test.pickle')\n",
    "\n",
    "# ラベルデータのダウンロード\n",
    "url = 'https://s3-ap-northeast-1.amazonaws.com/ai-std/label.pickle'\n",
    "request.urlretrieve(url, 'label.pickle')"
   ]
  },
  {
   "cell_type": "code",
   "execution_count": 3,
   "metadata": {},
   "outputs": [
    {
     "name": "stdout",
     "output_type": "stream",
     "text": [
      "保存されるオブジェクト\n"
     ]
    }
   ],
   "source": [
    "# pickleのサンプルプログラム\n",
    "import pickle\n",
    "\n",
    "# 適当なオブジェクトを用意\n",
    "obj = '保存されるオブジェクト'\n",
    "\n",
    "# Pythonオブジェクトをpickleファイルとして保存\n",
    "with open('sample.pickle','wb') as f:\n",
    "    pickle.dump(obj, f) # (Pythonオブジェクト, pickleファイル)\n",
    "\n",
    "# pickleファイルをPythonオブジェクトとして読込\n",
    "with open('sample.pickle','rb') as f:\n",
    "    loaded_obj = pickle.load(f)  # (pickleファイル)\n",
    "\n",
    "# 読み込んだオブジェクトを確認\n",
    "print(loaded_obj)"
   ]
  },
  {
   "cell_type": "code",
   "execution_count": 4,
   "metadata": {},
   "outputs": [],
   "source": [
    "# pickle形式のファイルを読み込む関数\n",
    "# (保存されたpickleファイル)\n",
    "def unpickle(file):\n",
    "    # 保存されたpickleファイルを読み込み\n",
    "    # 'rb'は｢読み込み専用(r)｣かつ｢バイト列(b)｣を意味する\n",
    "    with open(file, 'rb') as f:\n",
    "        return pickle.load(f, encoding='bytes')"
   ]
  },
  {
   "cell_type": "code",
   "execution_count": 5,
   "metadata": {},
   "outputs": [],
   "source": [
    "# データの読み込みを実行\n",
    "train = unpickle('train.pickle')\n",
    "test = unpickle('test.pickle')\n",
    "label = unpickle('label.pickle')"
   ]
  },
  {
   "cell_type": "code",
   "execution_count": 6,
   "metadata": {},
   "outputs": [],
   "source": [
    "X_train = train['data']\n",
    "y_train = train['label']\n",
    "X_test = test['data']\n",
    "y_test = test['label']"
   ]
  },
  {
   "cell_type": "code",
   "execution_count": 7,
   "metadata": {},
   "outputs": [
    {
     "name": "stdout",
     "output_type": "stream",
     "text": [
      "2500 500\n"
     ]
    }
   ],
   "source": [
    "N_train = len(X_train)\n",
    "N_test = len(X_test)\n",
    "print(N_train, N_test)"
   ]
  },
  {
   "cell_type": "code",
   "execution_count": 8,
   "metadata": {},
   "outputs": [
    {
     "data": {
      "text/plain": [
       "(2500, 3, 32, 32)"
      ]
     },
     "execution_count": 8,
     "metadata": {},
     "output_type": "execute_result"
    }
   ],
   "source": [
    "X_train.shape"
   ]
  },
  {
   "cell_type": "code",
   "execution_count": 9,
   "metadata": {},
   "outputs": [
    {
     "data": {
      "text/plain": [
       "array([[[[241., 242., 237., ...,  27.,  16.,   9.],\n",
       "         [238., 239., 231., ...,  36.,  44.,  67.],\n",
       "         [237., 233., 223., ...,  93.,  53., 111.],\n",
       "         ...,\n",
       "         [189., 192., 192., ..., 200., 210., 208.],\n",
       "         [191., 195., 196., ..., 216., 226., 222.],\n",
       "         [199., 204., 205., ..., 244., 246., 245.]],\n",
       "\n",
       "        [[241., 242., 238., ...,  28.,  16.,   9.],\n",
       "         [238., 239., 232., ...,  39.,  47.,  72.],\n",
       "         [237., 234., 226., ..., 103.,  62., 120.],\n",
       "         ...,\n",
       "         [193., 196., 196., ..., 205., 217., 215.],\n",
       "         [195., 199., 199., ..., 219., 229., 227.],\n",
       "         [202., 207., 208., ..., 244., 246., 246.]],\n",
       "\n",
       "        [[248., 249., 245., ...,  32.,  20.,  12.],\n",
       "         [246., 248., 243., ...,  35.,  43.,  67.],\n",
       "         [245., 245., 240., ...,  89.,  48., 110.],\n",
       "         ...,\n",
       "         [204., 208., 207., ..., 209., 225., 222.],\n",
       "         [207., 211., 212., ..., 216., 233., 231.],\n",
       "         [214., 219., 220., ..., 243., 248., 246.]]],\n",
       "\n",
       "\n",
       "       [[[255., 255., 255., ..., 255., 255., 255.],\n",
       "         [255., 255., 255., ..., 255., 255., 255.],\n",
       "         [255., 255., 255., ..., 255., 255., 255.],\n",
       "         ...,\n",
       "         [255., 255., 255., ..., 255., 255., 255.],\n",
       "         [255., 255., 255., ..., 255., 255., 255.],\n",
       "         [255., 255., 255., ..., 255., 255., 255.]],\n",
       "\n",
       "        [[255., 255., 255., ..., 255., 255., 255.],\n",
       "         [255., 255., 255., ..., 255., 255., 255.],\n",
       "         [255., 255., 255., ..., 255., 255., 255.],\n",
       "         ...,\n",
       "         [255., 255., 255., ..., 255., 255., 255.],\n",
       "         [255., 255., 255., ..., 255., 255., 255.],\n",
       "         [255., 255., 255., ..., 255., 255., 255.]],\n",
       "\n",
       "        [[255., 255., 255., ..., 255., 255., 255.],\n",
       "         [255., 255., 255., ..., 255., 255., 255.],\n",
       "         [255., 255., 255., ..., 255., 255., 255.],\n",
       "         ...,\n",
       "         [255., 255., 255., ..., 255., 255., 255.],\n",
       "         [255., 255., 255., ..., 255., 255., 255.],\n",
       "         [255., 255., 255., ..., 255., 255., 255.]]],\n",
       "\n",
       "\n",
       "       [[[255., 255., 255., ..., 255., 255., 255.],\n",
       "         [255., 254., 254., ..., 254., 254., 254.],\n",
       "         [255., 254., 255., ..., 255., 255., 255.],\n",
       "         ...,\n",
       "         [255., 254., 255., ..., 255., 255., 255.],\n",
       "         [255., 254., 255., ..., 255., 255., 255.],\n",
       "         [255., 254., 255., ..., 255., 255., 255.]],\n",
       "\n",
       "        [[255., 255., 255., ..., 255., 255., 255.],\n",
       "         [255., 254., 254., ..., 254., 254., 254.],\n",
       "         [255., 254., 255., ..., 255., 255., 255.],\n",
       "         ...,\n",
       "         [255., 254., 255., ..., 255., 255., 255.],\n",
       "         [255., 254., 255., ..., 255., 255., 255.],\n",
       "         [255., 254., 255., ..., 255., 255., 255.]],\n",
       "\n",
       "        [[255., 255., 255., ..., 255., 255., 255.],\n",
       "         [255., 254., 254., ..., 254., 254., 254.],\n",
       "         [255., 254., 255., ..., 255., 255., 255.],\n",
       "         ...,\n",
       "         [255., 254., 255., ..., 255., 255., 255.],\n",
       "         [255., 254., 255., ..., 255., 255., 255.],\n",
       "         [255., 254., 255., ..., 255., 255., 255.]]],\n",
       "\n",
       "\n",
       "       ...,\n",
       "\n",
       "\n",
       "       [[[255., 255., 255., ..., 255., 255., 255.],\n",
       "         [255., 254., 255., ..., 253., 252., 252.],\n",
       "         [255., 254., 255., ..., 254., 252., 252.],\n",
       "         ...,\n",
       "         [228., 225., 224., ..., 211., 213., 214.],\n",
       "         [226., 223., 224., ..., 213., 214., 214.],\n",
       "         [224., 222., 223., ..., 218., 218., 218.]],\n",
       "\n",
       "        [[255., 255., 255., ..., 255., 253., 252.],\n",
       "         [255., 254., 255., ..., 253., 251., 251.],\n",
       "         [255., 254., 255., ..., 255., 255., 254.],\n",
       "         ...,\n",
       "         [213., 209., 209., ..., 202., 205., 205.],\n",
       "         [211., 208., 209., ..., 204., 204., 205.],\n",
       "         [209., 207., 208., ..., 205., 205., 206.]],\n",
       "\n",
       "        [[255., 255., 255., ..., 246., 244., 243.],\n",
       "         [255., 254., 254., ..., 243., 241., 241.],\n",
       "         [255., 254., 255., ..., 245., 244., 243.],\n",
       "         ...,\n",
       "         [206., 202., 202., ..., 193., 195., 196.],\n",
       "         [204., 201., 202., ..., 195., 195., 196.],\n",
       "         [202., 200., 201., ..., 197., 197., 198.]]],\n",
       "\n",
       "\n",
       "       [[[238., 206., 138., ..., 255., 255., 255.],\n",
       "         [236., 226., 239., ..., 241., 250., 255.],\n",
       "         [237., 227., 253., ...,  90., 110., 165.],\n",
       "         ...,\n",
       "         [253., 253., 254., ..., 253., 252., 253.],\n",
       "         [253., 253., 254., ..., 253., 254., 254.],\n",
       "         [255., 255., 255., ..., 255., 255., 255.]],\n",
       "\n",
       "        [[238., 208., 141., ..., 255., 255., 255.],\n",
       "         [235., 226., 240., ..., 241., 248., 253.],\n",
       "         [236., 227., 254., ..., 106., 119., 171.],\n",
       "         ...,\n",
       "         [253., 253., 254., ..., 253., 252., 253.],\n",
       "         [253., 253., 254., ..., 253., 254., 254.],\n",
       "         [255., 255., 255., ..., 255., 255., 255.]],\n",
       "\n",
       "        [[243., 215., 152., ..., 255., 255., 255.],\n",
       "         [236., 229., 245., ..., 235., 250., 253.],\n",
       "         [233., 225., 252., ..., 132., 157., 192.],\n",
       "         ...,\n",
       "         [253., 253., 254., ..., 253., 252., 253.],\n",
       "         [253., 253., 254., ..., 253., 254., 254.],\n",
       "         [255., 255., 255., ..., 255., 255., 255.]]],\n",
       "\n",
       "\n",
       "       [[[255., 255., 255., ..., 254., 254., 255.],\n",
       "         [255., 254., 254., ..., 248., 249., 252.],\n",
       "         [255., 255., 255., ..., 255., 253., 253.],\n",
       "         ...,\n",
       "         [255., 255., 255., ..., 254., 253., 254.],\n",
       "         [255., 255., 255., ..., 253., 253., 254.],\n",
       "         [255., 255., 255., ..., 253., 253., 254.]],\n",
       "\n",
       "        [[255., 255., 255., ..., 254., 254., 255.],\n",
       "         [255., 254., 254., ..., 253., 253., 254.],\n",
       "         [255., 255., 255., ..., 255., 253., 253.],\n",
       "         ...,\n",
       "         [255., 255., 255., ..., 253., 252., 253.],\n",
       "         [255., 255., 255., ..., 253., 253., 254.],\n",
       "         [255., 255., 255., ..., 253., 253., 254.]],\n",
       "\n",
       "        [[255., 255., 255., ..., 254., 254., 255.],\n",
       "         [255., 254., 254., ..., 255., 254., 254.],\n",
       "         [255., 255., 255., ..., 253., 252., 253.],\n",
       "         ...,\n",
       "         [255., 255., 255., ..., 252., 251., 252.],\n",
       "         [255., 255., 255., ..., 253., 253., 255.],\n",
       "         [255., 255., 255., ..., 254., 254., 255.]]]], dtype=float32)"
      ]
     },
     "execution_count": 9,
     "metadata": {},
     "output_type": "execute_result"
    }
   ],
   "source": [
    "X_train"
   ]
  },
  {
   "cell_type": "code",
   "execution_count": 10,
   "metadata": {},
   "outputs": [],
   "source": [
    "X_train /= 255\n",
    "X_test /= 255"
   ]
  },
  {
   "cell_type": "code",
   "execution_count": 11,
   "metadata": {},
   "outputs": [],
   "source": [
    "def show_test_sample_info(index):\n",
    "    # (channel, height, width)を(height, width, channel)に変換\n",
    "    img = X_test[index].transpose(1,2,0)\n",
    "    \n",
    "    # 画像を出力\n",
    "    plt.imshow(img)\n",
    "    plt.show()\n",
    "    \n",
    "    # 正解ラベルを出力\n",
    "    print('class: ' + label[y_test[index]])\n",
    "    print('label: ' + str(y_test[index]))"
   ]
  },
  {
   "cell_type": "code",
   "execution_count": 12,
   "metadata": {},
   "outputs": [
    {
     "data": {
      "image/png": "[encoded data removed]",
      "text/plain": [
       "<matplotlib.figure.Figure at 0x1104f1630>"
      ]
     },
     "metadata": {},
     "output_type": "display_data"
    },
    {
     "name": "stdout",
     "output_type": "stream",
     "text": [
      "class: clock\n",
      "label: 0\n"
     ]
    }
   ],
   "source": [
    "show_test_sample_info(99)"
   ]
  },
  {
   "cell_type": "code",
   "execution_count": 49,
   "metadata": {},
   "outputs": [],
   "source": [
    "import chainer\n",
    "import chainer.functions as F\n",
    "import chainer.links as L\n",
    "from chainer import optimizers"
   ]
  },
  {
   "cell_type": "code",
   "execution_count": 50,
   "metadata": {},
   "outputs": [],
   "source": [
    "class CNN(chainer.Chain):\n",
    "    def __init__(self):\n",
    "        super().__init__()\n",
    "        with self.init_scope():\n",
    "            self.conv1 = L.Convolution2D(in_channels=3, out_channels=64, ksize=4, stride=1, pad=2)\n",
    "            self.conv2 = L.Convolution2D(in_channels=64, out_channels=128, ksize=4, stride=1, pad=2)\n",
    "            self.conv3 = L.Convolution2D(in_channels=None, out_channels=128, ksize=4, stride=1, pad=2) # in_channelをNoneで省略\n",
    "            self.fc4 = L.Linear(None, 512)\n",
    "            self.fc5 = L.Linear(None, 5) # out_channelはクラス数と同じ5に設定\n",
    "        \n",
    "    def __call__(self, X):\n",
    "        h = F.relu(F.max_pooling_2d(self.conv1(X), ksize=2)) # conv1の畳み込みのあとにMaxPoolingを実行\n",
    "        h = F.relu(F.max_pooling_2d(self.conv2(h), ksize=2)) # conv2の畳み込みのあとにMaxPpoolingを実行\n",
    "        h = F.relu(F.max_pooling_2d(self.conv3(h), ksize=2)) # conv3の畳み込みのあとにMaxPoolingを実行\n",
    "        h = F.relu(self.fc4(h))\n",
    "        return self.fc5(h)"
   ]
  },
  {
   "cell_type": "code",
   "execution_count": 51,
   "metadata": {},
   "outputs": [],
   "source": [
    "from chainer.datasets import tuple_dataset\n",
    "from chainer.training import extensions\n",
    "from chainer import optimizers, serializer, training, iterators"
   ]
  },
  {
   "cell_type": "code",
   "execution_count": 52,
   "metadata": {},
   "outputs": [],
   "source": [
    "# 分類器インスタンスの生成\n",
    "model = L.Classifier(CNN())\n",
    "\n",
    "# optimizerの生成\n",
    "optimizer = chainer.optimizers.SGD() # 今回はSGDを採用\n",
    "optimizer.setup(model)               # モデルの構造を読み込ませる\n",
    "\n",
    "# ミニバッチに含まれるサンプル数を指定\n",
    "batchsize = 100\n",
    "\n",
    "# epoch数を指定\n",
    "n_epoch = 100"
   ]
  },
  {
   "cell_type": "code",
   "execution_count": 53,
   "metadata": {},
   "outputs": [],
   "source": [
    "train = tuple_dataset.TupleDataset(X_train, y_train)\n",
    "train_iter = iterators.SerialIterator(train, batch_size=batchsize, shuffle=True)\n",
    "updater = training.StandardUpdater(train_iter, optimizer)\n",
    "trainer = training.Trainer(updater, (n_epoch, 'epoch'), out='result')"
   ]
  },
  {
   "cell_type": "code",
   "execution_count": 54,
   "metadata": {},
   "outputs": [],
   "source": [
    "test = tuple_dataset.TupleDataset(X_test,y_test)\n",
    "test_iter = iterators.SerialIterator(test,batch_size=batchsize,shuffle=False,repeat=False)\n",
    "trainer.extend(extensions.Evaluator(test_iter, model))\n",
    "trainer.extend(extensions.LogReport())\n",
    "trainer.extend(extensions.PrintReport(['epoch', 'main/accuracy', 'main/loss', 'validation/main/accuracy', 'validation/main/loss']))\n",
    "trainer.extend(extensions.ProgressBar())\n",
    "trainer.extend(extensions.PlotReport(['main/accuracy', 'validation/main/accuracy'],\n",
    "                          'epoch', file_name='accuracy.png'))\n",
    "trainer.extend(extensions.PlotReport(['main/loss', 'validation/main/loss'],\n",
    "                          'epoch', file_name='loss.png'))"
   ]
  },
  {
   "cell_type": "code",
   "execution_count": 55,
   "metadata": {},
   "outputs": [
    {
     "name": "stdout",
     "output_type": "stream",
     "text": [
      "epoch       main/accuracy  main/loss   validation/main/accuracy  validation/main/loss\n",
      "\u001b[J1           0.2188         1.59521     0.21                      1.58258               \n",
      "\u001b[J2           0.2376         1.57469     0.254                     1.56345               \n",
      "\u001b[J3           0.2776         1.55693     0.29                      1.54377               \n",
      "\u001b[J4           0.312          1.53863     0.318                     1.52239               \n",
      "\u001b[J     total [##................................................]  4.00%\n",
      "this epoch [..................................................]  0.00%\n",
      "       100 iter, 4 epoch / 100 epochs\n",
      "       inf iters/sec. Estimated time to finish: 0:00:00.\n",
      "\u001b[4A\u001b[J5           0.3276         1.51808     0.424                     1.49927               \n",
      "\u001b[J6           0.3768         1.49389     0.37                      1.47413               \n",
      "\u001b[J7           0.3824         1.47189     0.43                      1.44019               \n",
      "\u001b[J8           0.4056         1.44442     0.49                      1.41067               \n",
      "\u001b[J     total [####..............................................]  8.00%\n",
      "this epoch [..................................................]  0.00%\n",
      "       200 iter, 8 epoch / 100 epochs\n",
      "   0.45082 iters/sec. Estimated time to finish: 1:25:01.821152.\n",
      "\u001b[4A\u001b[J9           0.4484         1.41526     0.42                      1.40536               \n",
      "\u001b[J10          0.4424         1.38583     0.434                     1.37932               \n",
      "\u001b[J11          0.452          1.37317     0.438                     1.34662               \n",
      "\u001b[J12          0.422          1.36573     0.414                     1.37763               \n",
      "\u001b[J     total [######............................................] 12.00%\n",
      "this epoch [..................................................]  0.00%\n",
      "       300 iter, 12 epoch / 100 epochs\n",
      "   0.44772 iters/sec. Estimated time to finish: 1:21:53.825112.\n",
      "\u001b[4A\u001b[J13          0.4732         1.34226     0.52                      1.27949               \n",
      "\u001b[J14          0.5028         1.30954     0.438                     1.3068                \n",
      "\u001b[J15          0.5056         1.27888     0.592                     1.23807               \n",
      "\u001b[J16          0.4908         1.28699     0.598                     1.21432               \n",
      "\u001b[J     total [########..........................................] 16.00%\n",
      "this epoch [..................................................]  0.00%\n",
      "       400 iter, 16 epoch / 100 epochs\n",
      "    0.4414 iters/sec. Estimated time to finish: 1:19:17.589416.\n",
      "\u001b[4A\u001b[J17          0.5248         1.24946     0.504                     1.28825               \n",
      "\u001b[J18          0.5468         1.21618     0.618                     1.15578               \n",
      "\u001b[J19          0.5384         1.19737     0.59                      1.16595               \n",
      "\u001b[J20          0.5388         1.18671     0.56                      1.19543               \n",
      "\u001b[J     total [##########........................................] 20.00%\n",
      "this epoch [..................................................]  0.00%\n",
      "       500 iter, 20 epoch / 100 epochs\n",
      "   0.44359 iters/sec. Estimated time to finish: 1:15:08.650604.\n",
      "\u001b[4A\u001b[J21          0.5712         1.1362      0.614                     1.0945                \n",
      "\u001b[J22          0.5644         1.13146     0.534                     1.1667                \n",
      "\u001b[J23          0.5812         1.10593     0.52                      1.15456               \n",
      "\u001b[J24          0.576          1.10424     0.59                      1.13851               \n",
      "\u001b[J     total [############......................................] 24.00%\n",
      "this epoch [..................................................]  0.00%\n",
      "       600 iter, 24 epoch / 100 epochs\n",
      "   0.44687 iters/sec. Estimated time to finish: 1:10:51.831818.\n",
      "\u001b[4A\u001b[J25          0.6344         1.02998     0.556                     1.13092               \n",
      "\u001b[J26          0.6284         1.02747     0.614                     1.03053               \n",
      "\u001b[J27          0.6376         1.01024     0.604                     1.05513               \n",
      "\u001b[J28          0.6332         1.01684     0.688                     0.9591                \n",
      "\u001b[J     total [##############....................................] 28.00%\n",
      "this epoch [..................................................]  0.00%\n",
      "       700 iter, 28 epoch / 100 epochs\n",
      "   0.44967 iters/sec. Estimated time to finish: 1:06:42.960570.\n",
      "\u001b[4A\u001b[J29          0.6468         0.967548    0.664                     0.950513              \n",
      "\u001b[J30          0.6692         0.927195    0.648                     0.958954              \n",
      "\u001b[J31          0.6428         0.976409    0.63                      1.01734               \n",
      "\u001b[J32          0.6728         0.91137     0.648                     0.950122              \n",
      "\u001b[J     total [################..................................] 32.00%\n",
      "this epoch [..................................................]  0.00%\n",
      "       800 iter, 32 epoch / 100 epochs\n",
      "   0.26666 iters/sec. Estimated time to finish: 1:46:15.212142.\n",
      "\u001b[4A\u001b[J33          0.6684         0.911799    0.654                     0.935911              \n",
      "\u001b[J34          0.68           0.887071    0.68                      0.908628              \n",
      "\u001b[J35          0.712          0.836653    0.71                      0.865612              \n",
      "\u001b[J36          0.6832         0.868613    0.654                     0.947782              \n",
      "\u001b[J     total [##################................................] 36.00%\n",
      "this epoch [..................................................]  0.00%\n",
      "       900 iter, 36 epoch / 100 epochs\n",
      "   0.20505 iters/sec. Estimated time to finish: 2:10:02.935200.\n",
      "\u001b[4A\u001b[J37          0.6948         0.851345    0.668                     0.907335              \n",
      "\u001b[J38          0.7244         0.808419    0.668                     0.897866              \n",
      "\u001b[J39          0.712          0.802791    0.676                     0.897881              \n",
      "\u001b[J40          0.7104         0.797983    0.702                     0.855449              \n",
      "\u001b[J     total [####################..............................] 40.00%\n",
      "this epoch [..................................................]  0.00%\n",
      "      1000 iter, 40 epoch / 100 epochs\n",
      "   0.17375 iters/sec. Estimated time to finish: 2:23:53.145588.\n",
      "\u001b[4A\u001b[J41          0.7328         0.760244    0.68                      0.85597               \n",
      "\u001b[J42          0.7192         0.801112    0.626                     0.925033              \n",
      "\u001b[J43          0.74           0.738662    0.7                       0.831665              \n",
      "\u001b[J44          0.73           0.764367    0.734                     0.805305              \n",
      "\u001b[J     total [######################............................] 44.00%\n",
      "this epoch [..................................................]  0.00%\n",
      "      1100 iter, 44 epoch / 100 epochs\n",
      "   0.15507 iters/sec. Estimated time to finish: 2:30:28.054248.\n",
      "\u001b[4A\u001b[J45          0.7468         0.728871    0.66                      0.926369              \n",
      "\u001b[J46          0.7536         0.715672    0.698                     0.825011              \n",
      "\u001b[J47          0.754          0.699268    0.65                      0.887985              \n",
      "\u001b[J48          0.752          0.702724    0.704                     0.793809              \n",
      "\u001b[J     total [########################..........................] 48.00%\n",
      "this epoch [..................................................]  0.00%\n",
      "      1200 iter, 48 epoch / 100 epochs\n",
      "   0.14638 iters/sec. Estimated time to finish: 2:28:01.184943.\n",
      "\u001b[4A\u001b[J49          0.7416         0.757453    0.688                     0.822946              \n",
      "\u001b[J50          0.7848         0.645675    0.662                     0.876955              \n",
      "\u001b[J51          0.778          0.660122    0.708                     0.774486              \n",
      "\u001b[J52          0.776          0.651236    0.72                      0.771968              \n",
      "\u001b[J     total [##########################........................] 52.00%\n",
      "this epoch [..................................................]  0.00%\n",
      "      1300 iter, 52 epoch / 100 epochs\n",
      "   0.13666 iters/sec. Estimated time to finish: 2:26:20.969012.\n",
      "\u001b[4A\u001b[J53          0.7728         0.658872    0.742                     0.754005              \n",
      "\u001b[J54          0.7884         0.614292    0.688                     0.862438              \n"
     ]
    },
    {
     "name": "stdout",
     "output_type": "stream",
     "text": [
      "\u001b[J55          0.786          0.625395    0.742                     0.72225               \n",
      "\u001b[J56          0.7916         0.614061    0.72                      0.795093              \n",
      "\u001b[J     total [############################......................] 56.00%\n",
      "this epoch [..................................................]  0.00%\n",
      "      1400 iter, 56 epoch / 100 epochs\n",
      "   0.12936 iters/sec. Estimated time to finish: 2:21:43.171743.\n",
      "\u001b[4A\u001b[J57          0.7968         0.611703    0.706                     0.770756              \n",
      "\u001b[J58          0.8032         0.581265    0.726                     0.757533              \n",
      "\u001b[J59          0.8012         0.586988    0.712                     0.755663              \n",
      "\u001b[J60          0.8048         0.571562    0.722                     0.799981              \n",
      "\u001b[J     total [##############################....................] 60.00%\n",
      "this epoch [..................................................]  0.00%\n",
      "      1500 iter, 60 epoch / 100 epochs\n",
      "   0.12382 iters/sec. Estimated time to finish: 2:14:35.978028.\n",
      "\u001b[4A\u001b[J61          0.8156         0.549545    0.75                      0.707881              \n",
      "\u001b[J62          0.7932         0.598218    0.75                      0.719386              \n",
      "\u001b[J63          0.8232         0.521777    0.73                      0.752552              \n",
      "\u001b[J64          0.8052         0.5685      0.72                      0.723197              \n",
      "\u001b[J     total [################################..................] 64.00%\n",
      "this epoch [..................................................]  0.00%\n",
      "      1600 iter, 64 epoch / 100 epochs\n",
      "   0.12126 iters/sec. Estimated time to finish: 2:03:42.329123.\n",
      "\u001b[4A\u001b[J65          0.8252         0.523373    0.74                      0.697012              \n",
      "\u001b[J66          0.8304         0.504436    0.698                     0.791586              \n",
      "\u001b[J67          0.8164         0.530425    0.648                     0.937749              \n",
      "\u001b[J68          0.8416         0.483501    0.764                     0.682658              \n",
      "\u001b[J     total [##################################................] 68.00%\n",
      "this epoch [..................................................]  0.00%\n",
      "      1700 iter, 68 epoch / 100 epochs\n",
      "    0.1173 iters/sec. Estimated time to finish: 1:53:39.874121.\n",
      "\u001b[4A\u001b[J69          0.8304         0.507492    0.752                     0.707115              \n",
      "\u001b[J70          0.8496         0.463541    0.766                     0.672643              \n",
      "\u001b[J71          0.844          0.471535    0.748                     0.703923              \n",
      "\u001b[J72          0.8352         0.47777     0.76                      0.674476              \n",
      "\u001b[J     total [####################################..............] 72.00%\n",
      "this epoch [..................................................]  0.00%\n",
      "      1800 iter, 72 epoch / 100 epochs\n",
      "   0.11411 iters/sec. Estimated time to finish: 1:42:14.316062.\n",
      "\u001b[4A\u001b[J73          0.854          0.436485    0.708                     0.78342               \n",
      "\u001b[J74          0.8468         0.460617    0.772                     0.65609               \n",
      "\u001b[J75          0.8564         0.439012    0.776                     0.652922              \n",
      "\u001b[J76          0.8532         0.451398    0.746                     0.709794              \n",
      "\u001b[J     total [######################################............] 76.00%\n",
      "this epoch [..................................................]  0.00%\n",
      "      1900 iter, 76 epoch / 100 epochs\n",
      "   0.11274 iters/sec. Estimated time to finish: 1:28:41.964487.\n",
      "\u001b[4A\u001b[J77          0.8584         0.421265    0.762                     0.656456              \n",
      "\u001b[J78          0.8688         0.404042    0.762                     0.663928              \n",
      "\u001b[J79          0.8576         0.433958    0.758                     0.677451              \n",
      "\u001b[J80          0.8728         0.403432    0.77                      0.658446              \n",
      "\u001b[J     total [########################################..........] 80.00%\n",
      "this epoch [..................................................]  0.00%\n",
      "      2000 iter, 80 epoch / 100 epochs\n",
      "   0.11025 iters/sec. Estimated time to finish: 1:15:35.203023.\n",
      "\u001b[4A\u001b[J81          0.8764         0.388963    0.762                     0.66116               \n",
      "\u001b[J82          0.8736         0.382065    0.776                     0.64285               \n",
      "\u001b[J83          0.8848         0.364553    0.76                      0.674266              \n",
      "\u001b[J84          0.8724         0.401334    0.736                     0.734284              \n",
      "\u001b[J     total [##########################################........] 84.00%\n",
      "this epoch [..................................................]  0.00%\n",
      "      2100 iter, 84 epoch / 100 epochs\n",
      "   0.10811 iters/sec. Estimated time to finish: 1:01:40.105867.\n",
      "\u001b[4A\u001b[J85          0.8808         0.373884    0.766                     0.667371              \n",
      "\u001b[J86          0.8804         0.356473    0.742                     0.715696              \n",
      "\u001b[J87          0.884          0.353691    0.764                     0.663234              \n",
      "\u001b[J88          0.9132         0.300991    0.746                     0.72721               \n",
      "\u001b[J     total [############################################......] 88.00%\n",
      "this epoch [..................................................]  0.00%\n",
      "      2200 iter, 88 epoch / 100 epochs\n",
      "   0.10627 iters/sec. Estimated time to finish: 0:47:02.920159.\n",
      "\u001b[4A\u001b[J89          0.8816         0.348721    0.774                     0.656409              \n",
      "\u001b[J90          0.8936         0.330324    0.752                     0.716606              \n",
      "\u001b[J91          0.892          0.336113    0.722                     0.825577              \n",
      "\u001b[J92          0.8864         0.33945     0.778                     0.639617              \n",
      "\u001b[J     total [##############################################....] 92.00%\n",
      "this epoch [..................................................]  0.00%\n",
      "      2300 iter, 92 epoch / 100 epochs\n",
      "  0.088066 iters/sec. Estimated time to finish: 0:37:51.035230.\n",
      "\u001b[4A\u001b[J93          0.9024         0.314097    0.758                     0.677838              \n",
      "\u001b[J94          0.9072         0.304622    0.742                     0.73588               \n",
      "\u001b[J95          0.9076         0.29497     0.77                      0.673258              \n",
      "\u001b[J96          0.9064         0.288351    0.772                     0.65131               \n",
      "\u001b[J     total [################################################..] 96.00%\n",
      "this epoch [..................................................]  0.00%\n",
      "      2400 iter, 96 epoch / 100 epochs\n",
      "  0.089206 iters/sec. Estimated time to finish: 0:18:41.006576.\n",
      "\u001b[4A\u001b[J97          0.9088         0.291325    0.78                      0.650275              \n",
      "\u001b[J98          0.9068         0.299158    0.766                     0.663831              \n",
      "\u001b[J99          0.9132         0.276165    0.784                     0.654362              \n",
      "\u001b[J100         0.9072         0.281673    0.782                     0.656935              \n",
      "\u001b[J     total [##################################################] 100.00%\n",
      "this epoch [..................................................]  0.00%\n",
      "      2500 iter, 100 epoch / 100 epochs\n",
      "  0.092253 iters/sec. Estimated time to finish: 0:00:00.\n",
      "\u001b[4A\u001b[J"
     ]
    }
   ],
   "source": [
    "trainer.run()"
   ]
  },
  {
   "cell_type": "code",
   "execution_count": 56,
   "metadata": {},
   "outputs": [],
   "source": [
    "def predict(model, X):\n",
    "    if len(X.shape) == 3:  # データ数が1の場合は、バッチサイズ分の次元を追加\n",
    "        pred = model.predictor(X[None, ...]).data.argmax()\n",
    "    else:  # データ数が2以上の場合はそのまま\n",
    "        pred = model.predictor(X).data.argmax(axis=1)\n",
    "    return pred"
   ]
  },
  {
   "cell_type": "code",
   "execution_count": 57,
   "metadata": {},
   "outputs": [
    {
     "name": "stdout",
     "output_type": "stream",
     "text": [
      "accuracy: 0.782\n",
      "recall: 0.782\n",
      "precision: 0.792\n",
      "f1_score: 0.783\n"
     ]
    }
   ],
   "source": [
    "from sklearn import metrics\n",
    "print('accuracy: %.3f' % metrics.accuracy_score(y_test, predict(model, X_test)))\n",
    "print('recall: %.3f' % metrics.recall_score(y_test, predict(model, X_test), average='macro'))\n",
    "print('precision: %.3f' % metrics.precision_score(y_test, predict(model, X_test), average='macro'))\n",
    "print('f1_score: %.3f' % metrics.f1_score(y_test, predict(model, X_test), average='macro'))"
   ]
  },
  {
   "cell_type": "code",
   "execution_count": 58,
   "metadata": {},
   "outputs": [],
   "source": [
    "from pylab import box\n",
    "def show_graph(src):\n",
    "    img =  plt.imread(src)\n",
    "    xpixels, ypixels = img.shape[0],img.shape[1]\n",
    "    dpi = 100\n",
    "    margin = 0.01\n",
    "    figsize = (1 + margin) * ypixels / dpi, (1 + margin) * xpixels / dpi\n",
    "\n",
    "    fig = plt.figure(figsize=figsize, dpi=dpi)\n",
    "    ax = fig.add_axes([margin, margin, 1 - 2*margin, 1 - 2*margin])\n",
    "    ax.tick_params(labelbottom=\"off\",bottom=\"off\")\n",
    "    ax.tick_params(labelleft=\"off\",left=\"off\")\n",
    "\n",
    "    ax.imshow(img, interpolation='none')\n",
    "    box(\"off\")\n",
    "    plt.show()"
   ]
  },
  {
   "cell_type": "code",
   "execution_count": 59,
   "metadata": {},
   "outputs": [
    {
     "data": {
      "image/png": "[encoded data removed]",
      "text/plain": [
       "<matplotlib.figure.Figure at 0x12ae82e10>"
      ]
     },
     "metadata": {},
     "output_type": "display_data"
    },
    {
     "data": {
      "image/png": "[encoded data removed]",
      "text/plain": [
       "<matplotlib.figure.Figure at 0x12ae82a58>"
      ]
     },
     "metadata": {},
     "output_type": "display_data"
    }
   ],
   "source": [
    "# 精度と誤差をグラフ描画\n",
    "show_graph('result/loss.png')\n",
    "show_graph('result/accuracy.png')"
   ]
  },
  {
   "cell_type": "code",
   "execution_count": 60,
   "metadata": {},
   "outputs": [
    {
     "data": {
      "image/png": "[encoded data removed]",
      "text/plain": [
       "<matplotlib.figure.Figure at 0x12711ff60>"
      ]
     },
     "metadata": {},
     "output_type": "display_data"
    }
   ],
   "source": [
    "from sklearn.metrics import confusion_matrix as cm\n",
    "\n",
    "# 混同行列きれいに出力する関数\n",
    "def plot_cm(y_true, y_pred):\n",
    "    confmat = cm(y_true, y_pred)\n",
    "    fig, ax = plt.subplots(figsize=(5, 5))\n",
    "    ax.matshow(confmat, cmap=plt.cm.Blues, alpha=0.3)\n",
    "    for i in range(confmat.shape[0]):\n",
    "        for j in range(confmat.shape[1]):\n",
    "            ax.text(x=j, y=i, s=confmat[i, j], va='center', ha='center')\n",
    "    plt.xticks(np.arange(0, 5, 1))                               # x軸の目盛りを指定\n",
    "    plt.yticks(np.arange(0, 5, 1))  \n",
    "    plt.xlabel('true label')\n",
    "    plt.ylabel('predicted label')\n",
    "    plt.show()\n",
    "    \n",
    "# 混同行列を出力\n",
    "result = predict(model, X_test)\n",
    "plot_cm(result, y_test)"
   ]
  },
  {
   "cell_type": "code",
   "execution_count": null,
   "metadata": {},
   "outputs": [],
   "source": []
  }
 ],
 "metadata": {
  "kernelspec": {
   "display_name": "Python 3",
   "language": "python",
   "name": "python3"
  },
  "language_info": {
   "codemirror_mode": {
    "name": "ipython",
    "version": 3
   },
   "file_extension": ".py",
   "mimetype": "text/x-python",
   "name": "python",
   "nbconvert_exporter": "python",
   "pygments_lexer": "ipython3",
   "version": "3.6.4"
  },
  "toc": {
   "base_numbering": 1,
   "nav_menu": {},
   "number_sections": true,
   "sideBar": true,
   "skip_h1_title": false,
   "title_cell": "Table of Contents",
   "title_sidebar": "Contents",
   "toc_cell": false,
   "toc_position": {},
   "toc_section_display": true,
   "toc_window_display": false
  }
 },
 "nbformat": 4,
 "nbformat_minor": 2
}
