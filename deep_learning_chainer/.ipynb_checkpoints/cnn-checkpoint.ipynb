{
 "cells": [
  {
   "cell_type": "code",
   "execution_count": 4,
   "metadata": {},
   "outputs": [],
   "source": [
    "# 必要なライブラリの読み込み\n",
    "%matplotlib inline\n",
    "import matplotlib.pyplot as plt\n",
    "import numpy as np"
   ]
  },
  {
   "cell_type": "code",
   "execution_count": 5,
   "metadata": {},
   "outputs": [
    {
     "data": {
      "text/plain": [
       "('label.pickle', <http.client.HTTPMessage at 0x11011b400>)"
      ]
     },
     "execution_count": 5,
     "metadata": {},
     "output_type": "execute_result"
    }
   ],
   "source": [
    "# データセットのダウンロード\n",
    "# 2回目以降は実行する必要はありません\n",
    "from urllib import request\n",
    "\n",
    "# trainデータのダウンロード\n",
    "url = 'https://s3-ap-northeast-1.amazonaws.com/ai-std/train.pickle'\n",
    "request.urlretrieve(url, 'train.pickle')\n",
    "\n",
    "# testデータのダウンロード\n",
    "url = 'https://s3-ap-northeast-1.amazonaws.com/ai-std/test.pickle'\n",
    "request.urlretrieve(url, 'test.pickle')\n",
    "\n",
    "# ラベルデータのダウンロード\n",
    "url = 'https://s3-ap-northeast-1.amazonaws.com/ai-std/label.pickle'\n",
    "request.urlretrieve(url, 'label.pickle')"
   ]
  },
  {
   "cell_type": "code",
   "execution_count": 11,
   "metadata": {},
   "outputs": [
    {
     "name": "stdout",
     "output_type": "stream",
     "text": [
      "保存されるオブジェクト\n"
     ]
    }
   ],
   "source": [
    "# pickleのサンプルプログラム\n",
    "import pickle\n",
    "\n",
    "# 適当なオブジェクトを用意\n",
    "obj = '保存されるオブジェクト'\n",
    "\n",
    "# Pythonオブジェクトをpickleファイルとして保存\n",
    "with open('sample.pickle','wb') as f:\n",
    "    pickle.dump(obj, f) # (Pythonオブジェクト, pickleファイル)\n",
    "\n",
    "# pickleファイルをPythonオブジェクトとして読込\n",
    "with open('sample.pickle','rb') as f:\n",
    "    loaded_obj = pickle.load(f)  # (pickleファイル)\n",
    "\n",
    "# 読み込んだオブジェクトを確認\n",
    "print(loaded_obj)"
   ]
  },
  {
   "cell_type": "code",
   "execution_count": 12,
   "metadata": {},
   "outputs": [],
   "source": [
    "# pickle形式のファイルを読み込む関数\n",
    "# (保存されたpickleファイル)\n",
    "def unpickle(file):\n",
    "    # 保存されたpickleファイルを読み込み\n",
    "    # 'rb'は｢読み込み専用(r)｣かつ｢バイト列(b)｣を意味する\n",
    "    with open(file, 'rb') as f:\n",
    "        return pickle.load(f, encoding='bytes')"
   ]
  },
  {
   "cell_type": "code",
   "execution_count": 13,
   "metadata": {},
   "outputs": [],
   "source": [
    "# データの読み込みを実行\n",
    "train = unpickle('train.pickle')\n",
    "test = unpickle('test.pickle')\n",
    "label = unpickle('label.pickle')"
   ]
  },
  {
   "cell_type": "code",
   "execution_count": 24,
   "metadata": {},
   "outputs": [],
   "source": [
    "X_train = train['data']\n",
    "y_train = train['label']\n",
    "X_test = test['data']\n",
    "y_test = test['label']"
   ]
  },
  {
   "cell_type": "code",
   "execution_count": 25,
   "metadata": {},
   "outputs": [
    {
     "name": "stdout",
     "output_type": "stream",
     "text": [
      "2500 500\n"
     ]
    }
   ],
   "source": [
    "N_train = len(X_train)\n",
    "N_test = len(X_test)\n",
    "print(N_train, N_test)"
   ]
  },
  {
   "cell_type": "code",
   "execution_count": 27,
   "metadata": {},
   "outputs": [
    {
     "data": {
      "text/plain": [
       "(2500, 3, 32, 32)"
      ]
     },
     "execution_count": 27,
     "metadata": {},
     "output_type": "execute_result"
    }
   ],
   "source": [
    "X_train.shape"
   ]
  },
  {
   "cell_type": "code",
   "execution_count": 28,
   "metadata": {},
   "outputs": [
    {
     "data": {
      "text/plain": [
       "array([[[[241., 242., 237., ...,  27.,  16.,   9.],\n",
       "         [238., 239., 231., ...,  36.,  44.,  67.],\n",
       "         [237., 233., 223., ...,  93.,  53., 111.],\n",
       "         ...,\n",
       "         [189., 192., 192., ..., 200., 210., 208.],\n",
       "         [191., 195., 196., ..., 216., 226., 222.],\n",
       "         [199., 204., 205., ..., 244., 246., 245.]],\n",
       "\n",
       "        [[241., 242., 238., ...,  28.,  16.,   9.],\n",
       "         [238., 239., 232., ...,  39.,  47.,  72.],\n",
       "         [237., 234., 226., ..., 103.,  62., 120.],\n",
       "         ...,\n",
       "         [193., 196., 196., ..., 205., 217., 215.],\n",
       "         [195., 199., 199., ..., 219., 229., 227.],\n",
       "         [202., 207., 208., ..., 244., 246., 246.]],\n",
       "\n",
       "        [[248., 249., 245., ...,  32.,  20.,  12.],\n",
       "         [246., 248., 243., ...,  35.,  43.,  67.],\n",
       "         [245., 245., 240., ...,  89.,  48., 110.],\n",
       "         ...,\n",
       "         [204., 208., 207., ..., 209., 225., 222.],\n",
       "         [207., 211., 212., ..., 216., 233., 231.],\n",
       "         [214., 219., 220., ..., 243., 248., 246.]]],\n",
       "\n",
       "\n",
       "       [[[255., 255., 255., ..., 255., 255., 255.],\n",
       "         [255., 255., 255., ..., 255., 255., 255.],\n",
       "         [255., 255., 255., ..., 255., 255., 255.],\n",
       "         ...,\n",
       "         [255., 255., 255., ..., 255., 255., 255.],\n",
       "         [255., 255., 255., ..., 255., 255., 255.],\n",
       "         [255., 255., 255., ..., 255., 255., 255.]],\n",
       "\n",
       "        [[255., 255., 255., ..., 255., 255., 255.],\n",
       "         [255., 255., 255., ..., 255., 255., 255.],\n",
       "         [255., 255., 255., ..., 255., 255., 255.],\n",
       "         ...,\n",
       "         [255., 255., 255., ..., 255., 255., 255.],\n",
       "         [255., 255., 255., ..., 255., 255., 255.],\n",
       "         [255., 255., 255., ..., 255., 255., 255.]],\n",
       "\n",
       "        [[255., 255., 255., ..., 255., 255., 255.],\n",
       "         [255., 255., 255., ..., 255., 255., 255.],\n",
       "         [255., 255., 255., ..., 255., 255., 255.],\n",
       "         ...,\n",
       "         [255., 255., 255., ..., 255., 255., 255.],\n",
       "         [255., 255., 255., ..., 255., 255., 255.],\n",
       "         [255., 255., 255., ..., 255., 255., 255.]]],\n",
       "\n",
       "\n",
       "       [[[255., 255., 255., ..., 255., 255., 255.],\n",
       "         [255., 254., 254., ..., 254., 254., 254.],\n",
       "         [255., 254., 255., ..., 255., 255., 255.],\n",
       "         ...,\n",
       "         [255., 254., 255., ..., 255., 255., 255.],\n",
       "         [255., 254., 255., ..., 255., 255., 255.],\n",
       "         [255., 254., 255., ..., 255., 255., 255.]],\n",
       "\n",
       "        [[255., 255., 255., ..., 255., 255., 255.],\n",
       "         [255., 254., 254., ..., 254., 254., 254.],\n",
       "         [255., 254., 255., ..., 255., 255., 255.],\n",
       "         ...,\n",
       "         [255., 254., 255., ..., 255., 255., 255.],\n",
       "         [255., 254., 255., ..., 255., 255., 255.],\n",
       "         [255., 254., 255., ..., 255., 255., 255.]],\n",
       "\n",
       "        [[255., 255., 255., ..., 255., 255., 255.],\n",
       "         [255., 254., 254., ..., 254., 254., 254.],\n",
       "         [255., 254., 255., ..., 255., 255., 255.],\n",
       "         ...,\n",
       "         [255., 254., 255., ..., 255., 255., 255.],\n",
       "         [255., 254., 255., ..., 255., 255., 255.],\n",
       "         [255., 254., 255., ..., 255., 255., 255.]]],\n",
       "\n",
       "\n",
       "       ...,\n",
       "\n",
       "\n",
       "       [[[255., 255., 255., ..., 255., 255., 255.],\n",
       "         [255., 254., 255., ..., 253., 252., 252.],\n",
       "         [255., 254., 255., ..., 254., 252., 252.],\n",
       "         ...,\n",
       "         [228., 225., 224., ..., 211., 213., 214.],\n",
       "         [226., 223., 224., ..., 213., 214., 214.],\n",
       "         [224., 222., 223., ..., 218., 218., 218.]],\n",
       "\n",
       "        [[255., 255., 255., ..., 255., 253., 252.],\n",
       "         [255., 254., 255., ..., 253., 251., 251.],\n",
       "         [255., 254., 255., ..., 255., 255., 254.],\n",
       "         ...,\n",
       "         [213., 209., 209., ..., 202., 205., 205.],\n",
       "         [211., 208., 209., ..., 204., 204., 205.],\n",
       "         [209., 207., 208., ..., 205., 205., 206.]],\n",
       "\n",
       "        [[255., 255., 255., ..., 246., 244., 243.],\n",
       "         [255., 254., 254., ..., 243., 241., 241.],\n",
       "         [255., 254., 255., ..., 245., 244., 243.],\n",
       "         ...,\n",
       "         [206., 202., 202., ..., 193., 195., 196.],\n",
       "         [204., 201., 202., ..., 195., 195., 196.],\n",
       "         [202., 200., 201., ..., 197., 197., 198.]]],\n",
       "\n",
       "\n",
       "       [[[238., 206., 138., ..., 255., 255., 255.],\n",
       "         [236., 226., 239., ..., 241., 250., 255.],\n",
       "         [237., 227., 253., ...,  90., 110., 165.],\n",
       "         ...,\n",
       "         [253., 253., 254., ..., 253., 252., 253.],\n",
       "         [253., 253., 254., ..., 253., 254., 254.],\n",
       "         [255., 255., 255., ..., 255., 255., 255.]],\n",
       "\n",
       "        [[238., 208., 141., ..., 255., 255., 255.],\n",
       "         [235., 226., 240., ..., 241., 248., 253.],\n",
       "         [236., 227., 254., ..., 106., 119., 171.],\n",
       "         ...,\n",
       "         [253., 253., 254., ..., 253., 252., 253.],\n",
       "         [253., 253., 254., ..., 253., 254., 254.],\n",
       "         [255., 255., 255., ..., 255., 255., 255.]],\n",
       "\n",
       "        [[243., 215., 152., ..., 255., 255., 255.],\n",
       "         [236., 229., 245., ..., 235., 250., 253.],\n",
       "         [233., 225., 252., ..., 132., 157., 192.],\n",
       "         ...,\n",
       "         [253., 253., 254., ..., 253., 252., 253.],\n",
       "         [253., 253., 254., ..., 253., 254., 254.],\n",
       "         [255., 255., 255., ..., 255., 255., 255.]]],\n",
       "\n",
       "\n",
       "       [[[255., 255., 255., ..., 254., 254., 255.],\n",
       "         [255., 254., 254., ..., 248., 249., 252.],\n",
       "         [255., 255., 255., ..., 255., 253., 253.],\n",
       "         ...,\n",
       "         [255., 255., 255., ..., 254., 253., 254.],\n",
       "         [255., 255., 255., ..., 253., 253., 254.],\n",
       "         [255., 255., 255., ..., 253., 253., 254.]],\n",
       "\n",
       "        [[255., 255., 255., ..., 254., 254., 255.],\n",
       "         [255., 254., 254., ..., 253., 253., 254.],\n",
       "         [255., 255., 255., ..., 255., 253., 253.],\n",
       "         ...,\n",
       "         [255., 255., 255., ..., 253., 252., 253.],\n",
       "         [255., 255., 255., ..., 253., 253., 254.],\n",
       "         [255., 255., 255., ..., 253., 253., 254.]],\n",
       "\n",
       "        [[255., 255., 255., ..., 254., 254., 255.],\n",
       "         [255., 254., 254., ..., 255., 254., 254.],\n",
       "         [255., 255., 255., ..., 253., 252., 253.],\n",
       "         ...,\n",
       "         [255., 255., 255., ..., 252., 251., 252.],\n",
       "         [255., 255., 255., ..., 253., 253., 255.],\n",
       "         [255., 255., 255., ..., 254., 254., 255.]]]], dtype=float32)"
      ]
     },
     "execution_count": 28,
     "metadata": {},
     "output_type": "execute_result"
    }
   ],
   "source": [
    "X_train"
   ]
  },
  {
   "cell_type": "code",
   "execution_count": 29,
   "metadata": {},
   "outputs": [],
   "source": [
    "X_train /= 255\n",
    "X_test /= 255"
   ]
  },
  {
   "cell_type": "code",
   "execution_count": 37,
   "metadata": {},
   "outputs": [],
   "source": [
    "def show_test_sample_info(index):\n",
    "    # (channel, height, width)を(height, width, channel)に変換\n",
    "    img = X_test[index].transpose(1,2,0)\n",
    "    \n",
    "    # 画像を出力\n",
    "    plt.imshow(img)\n",
    "    plt.show()\n",
    "    \n",
    "    # 正解ラベルを出力\n",
    "    print('class: ' + label[y_test[index]])\n",
    "    print('label: ' + str(y_test[index]))"
   ]
  },
  {
   "cell_type": "code",
   "execution_count": 41,
   "metadata": {},
   "outputs": [
    {
     "data": {
      "image/png": "[encoded data removed]",
      "text/plain": [
       "<matplotlib.figure.Figure at 0x11167e128>"
      ]
     },
     "metadata": {},
     "output_type": "display_data"
    },
    {
     "name": "stdout",
     "output_type": "stream",
     "text": [
      "class: clock\n",
      "label: 0\n"
     ]
    }
   ],
   "source": [
    "show_test_sample_info(99)"
   ]
  },
  {
   "cell_type": "code",
   "execution_count": 44,
   "metadata": {},
   "outputs": [],
   "source": [
    "import chainer\n",
    "import chainer.functions as Fs\n",
    "import chainer.links as L\n",
    "from chainer import optimizers"
   ]
  },
  {
   "cell_type": "code",
   "execution_count": 63,
   "metadata": {},
   "outputs": [],
   "source": [
    "class CNN(chainer.Chain):\n",
    "    def __init__(self):\n",
    "        super().__init__()\n",
    "        with self.init_scope():\n",
    "            self.conv1 = L.Convolution2D(in_channels=3, out_channels=64, ksize=4, stride=1, pad=2)\n",
    "            self.conv2 = L.Convolution2D(in_channels=64, out_channels=128, ksize=4, stride=1, pad=2)\n",
    "            self.conv3 = L.Convolution2D(in_channels=128, out_channels=128, ksize=4, stride=1, pad=2)\n",
    "            self.fc4 = L.Linear(128, 512)\n",
    "            self.fc5 = L.Linear(512, 5)\n",
    "            \n",
    "    def __call__(self, X):\n",
    "        h = F.relu(F.max_pooling_2d(self.conv1(X), ksize=2))\n",
    "        h = F.relu(F.max_pooling_2d(self.conv2(X), ksize=2))\n",
    "        h = F.relu(F.max_pooling_2d(self.conv3(X), ksize=2))\n",
    "        h = F.relu(self.fc4(h))\n",
    "        return self.fc5(h)"
   ]
  },
  {
   "cell_type": "code",
   "execution_count": 64,
   "metadata": {},
   "outputs": [],
   "source": [
    "from chainer.datasets import tuple_dataset\n",
    "from chainer.training import extensions\n",
    "from chainer import optimizers, serializer, training, iterators"
   ]
  },
  {
   "cell_type": "code",
   "execution_count": 65,
   "metadata": {},
   "outputs": [],
   "source": [
    "# 分類器インスタンスの生成\n",
    "model = L.Classifier(CNN())\n",
    "\n",
    "# optimizerの生成\n",
    "optimizer = chainer.optimizers.SGD() # 今回はSGDを採用\n",
    "optimizer.setup(model)               # モデルの構造を読み込ませる\n",
    "\n",
    "# ミニバッチに含まれるサンプル数を指定\n",
    "batchsize = 100\n",
    "\n",
    "# epoch数を指定\n",
    "n_epoch = 100"
   ]
  },
  {
   "cell_type": "code",
   "execution_count": null,
   "metadata": {},
   "outputs": [],
   "source": [
    "train = tuple_dataset.TupleDataset(X_train, y_train)\n",
    "train_iter = iterators.SerialIterator(train, batch_size=batch_size, shuffle=True)\n",
    "updater = training.StandardUpdater(train_iter, optimizer)\n",
    "trainer = training.Trainer(updater, (n_epoch, 'epoch'), out=result)"
   ]
  }
 ],
 "metadata": {
  "kernelspec": {
   "display_name": "Python 3",
   "language": "python",
   "name": "python3"
  },
  "language_info": {
   "codemirror_mode": {
    "name": "ipython",
    "version": 3
   },
   "file_extension": ".py",
   "mimetype": "text/x-python",
   "name": "python",
   "nbconvert_exporter": "python",
   "pygments_lexer": "ipython3",
   "version": "3.6.4"
  },
  "toc": {
   "base_numbering": 1,
   "nav_menu": {},
   "number_sections": true,
   "sideBar": true,
   "skip_h1_title": false,
   "title_cell": "Table of Contents",
   "title_sidebar": "Contents",
   "toc_cell": false,
   "toc_position": {},
   "toc_section_display": true,
   "toc_window_display": false
  }
 },
 "nbformat": 4,
 "nbformat_minor": 2
}
